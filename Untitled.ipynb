{
 "cells": [
  {
   "cell_type": "code",
   "execution_count": 1,
   "id": "b7309a25-9f79-4799-a8f1-121963149f04",
   "metadata": {},
   "outputs": [
    {
     "name": "stdout",
     "output_type": "stream",
     "text": [
      "[*********************100%***********************]  1 of 1 completed\n"
     ]
    },
    {
     "name": "stderr",
     "output_type": "stream",
     "text": [
      "2023-08-09 16:29:10.533 \n",
      "  \u001b[33m\u001b[1mWarning:\u001b[0m to view this Streamlit app on a browser, run it with the following\n",
      "  command:\n",
      "\n",
      "    streamlit run C:\\Users\\supportcloud-pb\\AppData\\Local\\Programs\\Python\\Python311\\Lib\\site-packages\\ipykernel_launcher.py [ARGUMENTS]\n"
     ]
    }
   ],
   "source": [
    "import streamlit as st\n",
    "import pandas as pd\n",
    "import numpy as np\n",
    "import yfinance as yf\n",
    "\n",
    "# Get the historical market data from Yahoo Finance\n",
    "data = yf.download(\"AAPL\", start=\"2023-01-01\", end=\"2023-03-08\")\n",
    "\n",
    "# Create a function to recommend investment options\n",
    "def recommend_investments(risk_tolerance, investment_goals, time_horizon, tax_situation, portfolio):\n",
    "  \"\"\"Recommends investment options based on the user's risk tolerance, investment goals, time horizon, tax situation, and portfolio.\"\"\"\n",
    "  if risk_tolerance == \"low\":\n",
    "    if investment_goals == \"growth\":\n",
    "      return [\"index funds\", \"ETFs\"]\n",
    "    elif investment_goals == \"income\":\n",
    "      return [\"bonds\", \"money market funds\"]\n",
    "  elif risk_tolerance == \"medium\":\n",
    "    if investment_goals == \"growth\":\n",
    "      return [\"actively managed funds\", \"ETFs\"]\n",
    "    elif investment_goals == \"income\":\n",
    "      return [\"corporate bonds\", \"municipal bonds\"]\n",
    "  else:\n",
    "    if investment_goals == \"growth\":\n",
    "      return [\"actively managed funds\", \"private equity\"]\n",
    "    elif investment_goals == \"income\":\n",
    "      return [\"high-yield bonds\", \"preferred stocks\"]\n",
    "\n",
    "  # Analyze the news articles\n",
    "  sentiment_scores = []\n",
    "  for article in articles:\n",
    "    sentiment_scores.append(sentiment_analyzer(article[\"title\"]).polarity)\n",
    "\n",
    "  # Make recommendations based on the news sentiment and the user's portfolio\n",
    "  if np.mean(sentiment_scores) < 0:\n",
    "    # The news is negative, so recommend selling some investments\n",
    "    sell_list = []\n",
    "    for stock in portfolio:\n",
    "      if stock not in [\"index funds\", \"ETFs\"]:\n",
    "        sell_list.append(stock)\n",
    "    return sell_list\n",
    "  else:\n",
    "    # The news is positive, so recommend buying some new investments\n",
    "    buy_list = []\n",
    "    for stock in portfolio:\n",
    "      if stock not in [\"index funds\", \"ETFs\"]:\n",
    "        buy_list.append(stock)\n",
    "    return buy_list\n",
    "\n",
    "# Create the app layout\n",
    "st.title(\"Personal Capital Clone\")\n",
    "\n",
    "# Get the user's risk tolerance, investment goals, time horizon, tax situation, and portfolio\n",
    "risk_tolerance = st.selectbox(\"What is your risk tolerance?\", [\"low\", \"medium\", \"high\"])\n",
    "investment_goals = st.selectbox(\"What are your investment goals?\", [\"growth\", \"income\"])\n",
    "time_horizon = st.selectbox(\"What is your time horizon?\", [\"short-term\", \"medium-term\", \"long-term\"])\n",
    "tax_situation = st.selectbox(\"What is your tax situation?\", [\"taxable\", \"tax-deferred\", \"tax-exempt\"])\n",
    "portfolio = st.text_area(\"Enter your portfolio\")\n",
    "\n",
    "# Recommend investment options\n",
    "investments = recommend_investments(risk_tolerance, investment_goals, time_horizon, tax_situation, portfolio)\n",
    "if investments:\n",
    "  st.write(\"We recommend selling the following investments:\", investments)\n",
    "else:\n",
    "  st.write(\"We recommend buying the following investments:\", investments)\n"
   ]
  },
  {
   "cell_type": "code",
   "execution_count": null,
   "id": "1b048bbe-899c-4deb-8109-6ad1ccf631f6",
   "metadata": {},
   "outputs": [],
   "source": []
  }
 ],
 "metadata": {
  "kernelspec": {
   "display_name": "Python 3 (ipykernel)",
   "language": "python",
   "name": "python3"
  },
  "language_info": {
   "codemirror_mode": {
    "name": "ipython",
    "version": 3
   },
   "file_extension": ".py",
   "mimetype": "text/x-python",
   "name": "python",
   "nbconvert_exporter": "python",
   "pygments_lexer": "ipython3",
   "version": "3.11.4"
  }
 },
 "nbformat": 4,
 "nbformat_minor": 5
}
